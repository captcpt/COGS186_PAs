{
 "cells": [
  {
   "cell_type": "markdown",
   "metadata": {},
   "source": [
    "# COGS 186- Assignment 0: Setting Up by Qiyuan Wu and Owen Zhang\n",
    "\n",
    "This assignment covers the coding environment of the course\n",
    "\n",
    "This assignment is out of 15 points, worth 5% of your grade."
   ]
  },
  {
   "cell_type": "markdown",
   "metadata": {},
   "source": [
    "The following couple cells are checks that you are running the right tools for these assignments.\n",
    "\n",
    "If either of them fail, you will need to update some things. If you are not sure how, ask in office hours."
   ]
  },
  {
   "cell_type": "code",
   "execution_count": 1,
   "metadata": {},
   "outputs": [],
   "source": [
    "# These assignments require Python 3 (not Python 2).\n",
    "# Run this cell to check your version of Python.\n",
    "import sys\n",
    "assert sys.version_info[0] == 3, \"You must use Python 3 (preferably 3.6 or 3.7) for these assignments.\""
   ]
  },
  {
   "cell_type": "markdown",
   "metadata": {},
   "source": [
    "Use one of the following command to update your python version and create a new conda environment with that version, if so desired"
   ]
  },
  {
   "cell_type": "code",
   "execution_count": 2,
   "metadata": {},
   "outputs": [],
   "source": [
    "# Command for creating new conda environment with a specific python version \n",
    "#!conda create -n <myenv> python=3.7\n",
    "#!pip install --upgrade python==3.7"
   ]
  },
  {
   "cell_type": "code",
   "execution_count": 3,
   "metadata": {},
   "outputs": [],
   "source": [
    "# Run this cell to check your version of IPython. \n",
    "# If you get an error (the message prints out), stop and upgrade Jupyter.\n",
    "import IPython\n",
    "assert IPython.version_info[0] >= 3, \"Your version of IPython is too old, please update it.\""
   ]
  },
  {
   "cell_type": "markdown",
   "metadata": {},
   "source": [
    "This part of the assignment is focused on some practice with Python, and with practicing working with the format of the assignments.\n",
    "\n",
    "This class assumes some prior knowledge of Python. In the following questions, you will need to work with basic (standard library) data types (floats, lists, dictionaries, etc.) and control flow (conditionals, loops, functions, etc). If the questions in this section are totally unfamiliar to you, you may need revisit some practice materials to catch up with some of the programming.\n",
    "\n",
    "Through these questions, we will also prompt you to use a couple slightly more advanced standard library functions (for example, 'enumerate' and 'zip'), that may be new to you.\n",
    "\n",
    "Each question should be answerable with a relatively small number of lines of code, up to about 5-7 lines at most."
   ]
  },
  {
   "cell_type": "code",
   "execution_count": 4,
   "metadata": {},
   "outputs": [
    {
     "name": "stdout",
     "output_type": "stream",
     "text": [
      "8\n"
     ]
    }
   ],
   "source": [
    "# PRINTING VARIABLES\n",
    "# A reminder that you can (and should) print and check variables as you go.\n",
    "#  This allows you to check what values they hold, and debug if anything unexpected happens.\n",
    "\n",
    "# Define a variable\n",
    "math_result = 2 * 4\n",
    "\n",
    "# Print out the value(s) of a variable.\n",
    "print(math_result)"
   ]
  },
  {
   "cell_type": "markdown",
   "metadata": {},
   "source": [
    "## Question 1: Defining variables (0.5 points)\n",
    "\n",
    "Define a tuple called var_a, that contains the numbers 1-10 (inclusively).\n",
    "Define a list called var_b, that contains individual letters a-j (inclusively)."
   ]
  },
  {
   "cell_type": "code",
   "execution_count": 5,
   "metadata": {},
   "outputs": [],
   "source": [
    "# YOUR CODE HERE\n",
    "\n",
    "### BEGIN SOLUTION\n",
    "var_a = (1,2,3,4,5,6,7,8,9,10)\n",
    "var_b = ['a','b','c','d','e','f','g','h','i','j']\n",
    "\n",
    "### END SOLUTION"
   ]
  },
  {
   "cell_type": "code",
   "execution_count": 6,
   "metadata": {},
   "outputs": [
    {
     "name": "stdout",
     "output_type": "stream",
     "text": [
      "(1, 2, 3, 4, 5, 6, 7, 8, 9, 10)\n",
      "['a', 'b', 'c', 'd', 'e', 'f', 'g', 'h', 'i', 'j']\n"
     ]
    }
   ],
   "source": [
    "# Tests for Q1\n",
    "\n",
    "# These tests check the variables are defined\n",
    "assert var_a\n",
    "assert var_b\n",
    "\n",
    "# These tests check that the variables are the right data types\n",
    "print(var_a)\n",
    "print(var_b)\n",
    "assert isinstance(var_a, tuple)\n",
    "assert isinstance(var_b, list)"
   ]
  },
  {
   "cell_type": "markdown",
   "metadata": {},
   "source": [
    "## Question 2: Defining Variables, Part II (0.5 points)\n",
    "\n",
    "Create a Python dict called first_dictionary where the keys are the elements in var_b and the values are the corresponding elements in var_a.\n",
    "\n",
    "The zip function may be useful.\n",
    "\n",
    "You might also make use of a Python dictionary comprehension"
   ]
  },
  {
   "cell_type": "code",
   "execution_count": 7,
   "metadata": {},
   "outputs": [
    {
     "name": "stdout",
     "output_type": "stream",
     "text": [
      "{'a': 1, 'b': 2, 'c': 3, 'd': 4, 'e': 5, 'f': 6, 'g': 7, 'h': 8, 'i': 9, 'j': 10}\n"
     ]
    }
   ],
   "source": [
    "first_dictionary = {}\n",
    "\n",
    "### BEGIN SOLUTION\n",
    "first_dictionary = dict(zip(var_b,var_a))\n",
    "\n",
    "### END SOLUTION\n",
    "print(first_dictionary)\n",
    "assert isinstance(first_dictionary,dict)"
   ]
  },
  {
   "cell_type": "markdown",
   "metadata": {},
   "source": [
    "## Question 3: Control Flow (1 point)\n",
    "Loop through the provided list `lst`. For each element, check if it is an even number. If the element is an even number, append the INDEX of that element to the list `inds`.\n",
    "\n",
    "Note that you are adding the index to `inds`, **not the element itself**.\n",
    "   \n",
    "Hint: to check if a number is even, you can use the modulo `%` operator.\n",
    "\n",
    "Hint: to loop through an iterable, keeping track of the index, you can use the `enumerate` function."
   ]
  },
  {
   "cell_type": "code",
   "execution_count": 8,
   "metadata": {},
   "outputs": [
    {
     "name": "stdout",
     "output_type": "stream",
     "text": [
      "[1, 3, 5, 7, 9, 11, 13]\n"
     ]
    }
   ],
   "source": [
    "# These variables are provided to you.\n",
    "lst = [1, 2, 3, 4, 5, 6, 7, 8, 9, 10, 11, 12, 13, 14, 15]\n",
    "inds = []\n",
    "\n",
    "### BEGIN SOLUTION\n",
    "for index, value in enumerate(lst):\n",
    "    if value % 2 == 0:\n",
    "        inds.append(index)\n",
    "\n",
    "### END SOLUTION\n",
    "print(inds)\n",
    "assert inds[0] == 1\n",
    "assert inds[1] == 3"
   ]
  },
  {
   "cell_type": "markdown",
   "metadata": {},
   "source": [
    "## Question 4: Functions (1 point)\n",
    "\n",
    "Write a function `squared_diff` that takes two number inputs and returns the squared difference of the two numbers i.e. $(a - b)^2$. For example:\n",
    "\n",
    "```python\n",
    ">>> squared_diff(2, 4)\n",
    "4\n",
    ">>> squared_diff(10, 1)\n",
    "81\n",
    "```"
   ]
  },
  {
   "cell_type": "code",
   "execution_count": 9,
   "metadata": {},
   "outputs": [
    {
     "name": "stdout",
     "output_type": "stream",
     "text": [
      "144\n",
      "1\n",
      "0\n"
     ]
    }
   ],
   "source": [
    "def squared_diff(a,b):\n",
    "    ### BEGIN SOLUTION\n",
    "    return (a - b) ** 2\n",
    "    \n",
    "    ### END SOLUTION\n",
    "\n",
    "print(squared_diff(-10,2))\n",
    "print(squared_diff(15,16))\n",
    "print(squared_diff(16,16))\n",
    "assert squared_diff(2,4) == 4\n",
    "assert squared_diff(10,1) == 81"
   ]
  },
  {
   "cell_type": "markdown",
   "metadata": {},
   "source": [
    "## Question 5: Putting it all together (1 point)\n",
    "\n",
    "Create a dictionary named second_dictionary. It should have the key-value pairs as first_dictionary, unless the original value is odd. If so, the value in second_dictionary should be the squared difference of the original value and 10.\n",
    "\n",
    "Note: to loop through key-value pairs in a dictionary, check out the .items method."
   ]
  },
  {
   "cell_type": "code",
   "execution_count": 10,
   "metadata": {},
   "outputs": [
    {
     "name": "stdout",
     "output_type": "stream",
     "text": [
      "{'a': 81, 'b': 2, 'c': 49, 'd': 4, 'e': 25, 'f': 6, 'g': 9, 'h': 8, 'i': 1, 'j': 10}\n"
     ]
    }
   ],
   "source": [
    "second_dictionary = dict()\n",
    "\n",
    "### BEGIN SOLUTION\n",
    "for key, value in first_dictionary.items():\n",
    "    if value % 2 != 0:\n",
    "        second_dictionary[key] = squared_diff(value, 10)\n",
    "    else:\n",
    "        second_dictionary[key] = value\n",
    "        \n",
    "### END SOLUTION\n",
    "print(second_dictionary)"
   ]
  },
  {
   "cell_type": "markdown",
   "metadata": {},
   "source": [
    "## Question 6: Data Science Modules (1 point)\n",
    "\n",
    "This question is just about importing the more core data science modules. We won't start using them yet.\n",
    "\n",
    "This is just to test that you have them available and working (this is the only time we'll ask you to write out your own import modules in assignments). This should work on datahub automatically, but we want to be sure and want to be sure you're familiar with how to do this.\n",
    "\n",
    "If you are unable to import them, ask for help in office hours.\n",
    "\n",
    "Import the numpy, scipy, pandas, matplotlib.pyplot, sklearn modules as np, sp, pd, plt, skl, respectively."
   ]
  },
  {
   "cell_type": "code",
   "execution_count": 11,
   "metadata": {},
   "outputs": [],
   "source": [
    "# YOUR CODE HERE\n",
    "### BEGIN SOLUTION\n",
    "import pandas as pd\n",
    "import numpy as np\n",
    "import matplotlib.pyplot as plt\n",
    "import scipy as sp\n",
    "import sklearn as skl\n",
    "\n",
    "### END SOLUTION"
   ]
  },
  {
   "cell_type": "markdown",
   "metadata": {},
   "source": [
    "## Question 7: Basic Matrix Operations (4 point)\n",
    "Define,\n",
    "$$ A = \\begin{bmatrix} 3&5&2 \\\\ 6&1&7 \\\\ 2&5&2 \\end{bmatrix} $$\n",
    "$$ b = \\begin{bmatrix} 1 \\\\ 1 \\\\ 1 \\end{bmatrix} $$\n",
    "$$ Y = \\begin{bmatrix} 4 \\\\ 3 \\\\ 2 \\end{bmatrix} $$ \n",
    "$$ Ax+b = Y $$ \n",
    "\n",
    "Find x.\n",
    "\n",
    "Hint: use numpy.linalg.inv and the @ operator for matrix multiplication."
   ]
  },
  {
   "cell_type": "code",
   "execution_count": 12,
   "metadata": {},
   "outputs": [
    {
     "name": "stdout",
     "output_type": "stream",
     "text": [
      "[[ 2.        ]\n",
      " [-0.03030303]\n",
      " [-1.42424242]]\n"
     ]
    }
   ],
   "source": [
    "x = np.zeros(3)\n",
    "\n",
    "### BEGIN SOLUTION\n",
    "A = np.array([[3,5,2],[6,1,7],[2,5,2]])\n",
    "b = np.array([[1],[1],[1]])\n",
    "Y = np.array([[4],[3],[2]])\n",
    "\n",
    "# Find the inverse of matrix A\n",
    "A_inv = np.linalg.inv(A)\n",
    "\n",
    "# Solve for x using matrix multiplication\n",
    "x = A_inv @ (Y - b)\n",
    "\n",
    "### END SOLUTION\n",
    "print(x)\n",
    "assert isinstance(x, np.ndarray)\n"
   ]
  },
  {
   "cell_type": "markdown",
   "metadata": {},
   "source": [
    "## Question 8: Data Manipulation (5 points)\n",
    "In this question, we will be using the Iris dataset. First, you need to obtain the dataset by running from sklearn import datasets and iris = datasets.load_iris(). \n",
    "\n",
    "1. **Print** the shape of the dataset. You will see that the dataset has 150 sample and each sample has 4 features.(Note: the dataset is stored under iris )[\"data\"] (0.5 point)\n"
   ]
  },
  {
   "cell_type": "code",
   "execution_count": 13,
   "metadata": {},
   "outputs": [],
   "source": [
    "from sklearn import datasets\n",
    "iris = datasets.load_iris()"
   ]
  },
  {
   "cell_type": "code",
   "execution_count": 14,
   "metadata": {},
   "outputs": [
    {
     "name": "stdout",
     "output_type": "stream",
     "text": [
      "(150, 4)\n"
     ]
    }
   ],
   "source": [
    "# YOUR CODE HERE\n",
    "print(iris.data.shape)"
   ]
  },
  {
   "cell_type": "markdown",
   "metadata": {},
   "source": [
    "2. **Print** the last three samples of the dataset. (0.5 point)"
   ]
  },
  {
   "cell_type": "code",
   "execution_count": 15,
   "metadata": {},
   "outputs": [
    {
     "name": "stdout",
     "output_type": "stream",
     "text": [
      "[[6.5 3.  5.2 2. ]\n",
      " [6.2 3.4 5.4 2.3]\n",
      " [5.9 3.  5.1 1.8]]\n"
     ]
    }
   ],
   "source": [
    "# YOUR CODE HERE\n",
    "print(iris.data[-3:])"
   ]
  },
  {
   "cell_type": "markdown",
   "metadata": {},
   "source": [
    "3. Perform a linear projection on the samples using vector $w = [1,2,3,4]$. We can do this by calculating the dot product between the data points and the vector $w$. Find and **print** the **mean** of the projected vector. Hint: You can use numpy.dot for calculating the dot product. The shape of the output vector should be (150,) or (150,1). This problem can be done using a single line of code. (2 points)"
   ]
  },
  {
   "cell_type": "code",
   "execution_count": 16,
   "metadata": {},
   "outputs": [
    {
     "name": "stdout",
     "output_type": "stream",
     "text": [
      "28.029333333333337\n"
     ]
    }
   ],
   "source": [
    "# YOUR CODE HERE\n",
    "print(np.mean(np.dot(iris.data, [1,2,3,4])))"
   ]
  },
  {
   "cell_type": "markdown",
   "metadata": {},
   "source": [
    "4. Randomly select 3 samples (rows) from the dataset. **Print** the indices and the selected data points. Hint: use numpy.random.randint to sample the indices. (1 point)"
   ]
  },
  {
   "cell_type": "code",
   "execution_count": 17,
   "metadata": {},
   "outputs": [
    {
     "name": "stdout",
     "output_type": "stream",
     "text": [
      "23 [5.1 3.3 1.7 0.5]\n",
      "54 [6.5 2.8 4.6 1.5]\n",
      "110 [6.5 3.2 5.1 2. ]\n"
     ]
    }
   ],
   "source": [
    "# YOUR CODE HERE\n",
    "index = np.random.randint(0, len(iris.data), size=3)\n",
    "for ind in index:\n",
    "    print(ind, iris.data[ind])"
   ]
  },
  {
   "cell_type": "markdown",
   "metadata": {},
   "source": [
    "5. Add one more feature (one more column) to the right side of the dataset. The value of the new feature for each sample is 1. **Print** the first 5 samples of the new dataset. (1 point) Hint: Use nupmy.ones and numpy.hstack. "
   ]
  },
  {
   "cell_type": "code",
   "execution_count": 18,
   "metadata": {},
   "outputs": [
    {
     "name": "stdout",
     "output_type": "stream",
     "text": [
      "[[5.1 3.5 1.4 0.2 1. ]\n",
      " [4.9 3.  1.4 0.2 1. ]\n",
      " [4.7 3.2 1.3 0.2 1. ]\n",
      " [4.6 3.1 1.5 0.2 1. ]\n",
      " [5.  3.6 1.4 0.2 1. ]]\n"
     ]
    }
   ],
   "source": [
    "# YOUR CODE HERE  \n",
    "iris.data = np.hstack((iris.data, np.ones((iris.data.shape[0], 1))))\n",
    "print(iris.data[:5])"
   ]
  },
  {
   "cell_type": "markdown",
   "metadata": {},
   "source": [
    "## Question 9: Data Presentation (1 point)\n",
    "Use Matplotlib to plot the data points in the iris dataset on a 2D plot. Use the values of the **first** and **second** features as the x and y coordinates. Make sure it is a scatter plot. "
   ]
  },
  {
   "cell_type": "code",
   "execution_count": 19,
   "metadata": {
    "scrolled": true
   },
   "outputs": [
    {
     "data": {
      "image/png": "[encoded data removed]",
      "text/plain": [
       "<Figure size 432x288 with 1 Axes>"
      ]
     },
     "metadata": {
      "needs_background": "light"
     },
     "output_type": "display_data"
    }
   ],
   "source": [
    "# YOUR CODE HERE  \n",
    "x = iris.data[:, 0]\n",
    "y = iris.data[:, 1]\n",
    "\n",
    "plt.scatter(x, y)\n",
    "\n",
    "plt.title(\"Iris Dataset: First vs Second Feature\")\n",
    "plt.xlabel(\"First Feature\")\n",
    "plt.ylabel(\"Second Feature\")\n",
    "\n",
    "plt.show()"
   ]
  },
  {
   "cell_type": "markdown",
   "metadata": {},
   "source": []
  }
 ],
 "metadata": {
  "kernelspec": {
   "display_name": "Python 3 (ipykernel)",
   "language": "python",
   "name": "python3"
  },
  "language_info": {
   "codemirror_mode": {
    "name": "ipython",
    "version": 3
   },
   "file_extension": ".py",
   "mimetype": "text/x-python",
   "name": "python",
   "nbconvert_exporter": "python",
   "pygments_lexer": "ipython3",
   "version": "3.9.7"
  },
  "vscode": {
   "interpreter": {
    "hash": "77eee26a74623a023872d1bc89eff3417ddfa96c1608d48d76f7b381bf2c2567"
   }
  }
 },
 "nbformat": 4,
 "nbformat_minor": 2
}
