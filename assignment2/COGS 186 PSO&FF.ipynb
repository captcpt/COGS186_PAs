{
 "cells": [
  {
   "cell_type": "markdown",
   "metadata": {
    "id": "5Nz5oIJab7Jy"
   },
   "source": [
    "# Particle Swarm Optimization \n",
    "## Introduction\n",
    "The problem:\n",
    "In this assignment, we will be using the Particle Swarm algorithm to find the global minimum of a non-convex function. Particle Swarm Optimization is a biologically inspired algorithm that mimics a flock of birds or a school of fish. Similar to the Genetic Algorithm, PSO starts with a randomly created initial population, a set of possible solutions (called particles), and updates these particles after every iteration. However, GA uses crossover and mutation to create new individuals, whereas PSO maintains the same population but changes each particle over time. \n",
    "\n",
    "We have provided code stubs in this notebook to get you started, and give hints about the structure of the code.\n",
    "\n",
    "You need to implement Particle Swarm Optimization, and analyze the results. "
   ]
  },
  {
   "cell_type": "markdown",
   "metadata": {
    "id": "A2f55UD7CiPf"
   },
   "source": [
    "## Approach: \n",
    "Let's start with a few definitions. \n",
    "- Particle (aka \"individual\"): a solution to the non-convex function $f(\\overrightarrow{x})$, which we are trying to minimize. The particle's position in the swarm is defined to be this vector, which represents a possible solution to the problem. The particle also has a velocity vector, and variables that record the \"best\" (lowest) value found so far. \n",
    "- Population: a collection of possible solutions to the function (i.e., a collection of Particles)\n",
    "- Fitness: a function that tells us how good each Particle is. For a given solution $\\overrightarrow{x}$, to minimize/maximize the objective function, the lower/higher the value of the objective function after plugging in the solution (i.e. $f(\\overrightarrow{x})$), the higher the fitness/value of the solution.\n",
    "\n",
    "Our Particle Swarm will proceed in the following steps:\n",
    "1. Create the population (initialized with random positions and velocities)\n",
    "2. Initialize the global best value and all the Particles' individual best values. All best fitness initializations should be to $-\\infty$\n",
    "2. Update each Particle's individual best as well as the global best value found so far \n",
    "3. Update each Particle's velocity subject to the equation learned in class, and then update the Particle's position \n",
    "4. Update $w$\n",
    "5. Repeat steps 3-4 for until the solution has converged \n",
    "6. Plot your results (best values)\n",
    "\n",
    "### Algorithm:\n",
    "At every iteration, the position of each Particle gets updated. Each Particle has a position vector, $x$, and a velocity vector, $v$. The velocity vector is changed, and then each element of the velocity vector gets added to each element of the position vector. The length of $x$ and $v$ is equal to dimension ($n$).\n",
    "\n",
    "The velocity vector is updated in the following way: \n",
    "\n",
    "$v_i^{t+1}$ = inertia + cognitive velocity + social velocity \n",
    "\n",
    "- inertia = $w$ * $v_i^{t}$\n",
    "\n",
    "- cognitive velocity = $c_1$ * $r_1$ * (personal best position - current position)\n",
    "\n",
    "- social velocity = $c_2$ * $r_2$ * (global best position - current position)\n",
    "\n",
    "And the position vector is then updated:\n",
    "\n",
    "$x_i^{t+1}$ = $x_i^{t}$ + $v_i^{t+1}$\n",
    "\n",
    "$r_1$ and $r_2$ are random numbers between 0 and 1, and $c_1$ and $c_2$ are the cognitive and social parameters, respectively.\n",
    "\n",
    "\n",
    "The direction that the particle will move in each iteration depends on these three vectors (inertia, cognitive velocity, social velocity). Cognitive velocity pushes the Particle towards its personal best, and social (global) velocity pushes the Particle towards the global best. \n",
    "\n",
    "![picture](https://drive.google.com/uc?export=view&id=1O_fB3TsyyTsFDHVjBy99GIQ14tWSzL_n)\n"
   ]
  },
  {
   "cell_type": "code",
   "execution_count": 1,
   "metadata": {
    "id": "BNI4gdXKiIDC"
   },
   "outputs": [],
   "source": [
    "import numpy as np, random, operator, pandas as pd, matplotlib.pyplot as plt\n",
    "import operator\n",
    "import math\n",
    "import sys\n",
    "from datetime import datetime\n",
    "from util import plot_particles, record_to_pv"
   ]
  },
  {
   "cell_type": "markdown",
   "metadata": {
    "id": "RXsFN9cLJc7G"
   },
   "source": [
    "We will set global variable dimension as the number of variables in the function we are minimizing. \n",
    "\n",
    "$f(\\overrightarrow{x}) = x_{1}^{2} + (x_{2}+1)^{2} - 5cos(1.5x_{1} + 1.5) - 5cos(2x_{2}-1.5)$\n",
    "\n",
    "The function is written below. "
   ]
  },
  {
   "cell_type": "code",
   "execution_count": 2,
   "metadata": {
    "id": "wBiuwHOzZVNg"
   },
   "outputs": [],
   "source": [
    "dim = 2\n",
    "def func(x):\n",
    "    x_ = x[0]\n",
    "    y_ = x[1]\n",
    "    return x_**2 + (y_+1)**2 - 5*np.cos(1.5*x_ + 1.5) - 5 * np.cos(2* y_ - 1.50)"
   ]
  },
  {
   "cell_type": "markdown",
   "metadata": {
    "id": "PSV6w11MLBOz"
   },
   "source": [
    "## Create necessary classes and functions\n",
    "Next, we create a class that will represent and handle an individual Particle in the population. A Particle only needs its position vector to be initialized. Velocity starts with random values, and we have variables that keep track of this Particle's best position so far and the value that this position yields. This means that this is the position, or solution, found by this Particle that gives the lowest value when plugged into the polynomial. \n",
    "\n",
    "Note that the goal is to minimize the value of the polynomial, therefore the fitness should be the **opposite** of the polynomial when we plug in this Particle's position (i.e. particle.fitness = -func(particle.position)). \n",
    "\n",
    "There are functions that are used to update the velocity and position of the Particle based on the equations above. When updating position, we must make sure each element of position stays within the desired bounds. This means that if the new position value is outside of the interval [$-100, 100$], we set the value to the boundary value. \n",
    "\n",
    "## 1.1 (5 points)\n",
    "**TO-DO**\n",
    "\n",
    "1. `update_velocity`\n",
    "2. `update_position`"
   ]
  },
  {
   "cell_type": "code",
   "execution_count": 3,
   "metadata": {
    "id": "NLYcHIKH_NjP"
   },
   "outputs": [],
   "source": [
    "class Particle:\n",
    "    def __init__(self, position):\n",
    "        \"\"\"\n",
    "        position: the position of this Particle, a list of length 2\n",
    "        velocity: the velocity of this Particle, a list of length 2\n",
    "        best_position: the best position found so far by this Particle\n",
    "        best_value: the best (lowest) value found so far by this Particle\n",
    "        \"\"\"\n",
    "        self.position = position\n",
    "        self.velocity = np.array([random.uniform(-2,2) for i in range(dim)])\n",
    "        self.best_position = np.copy(position)\n",
    "        self.best_fitness = -math.inf\n",
    "    \n",
    "    def fitness(self):\n",
    "        \"\"\"\n",
    "        This fitness function is defined as the opposite value of this Particle\n",
    "        when plugged into the function polynomial.\n",
    "        \"\"\"\n",
    "        return -func(self.position)\n",
    "\n",
    "    def update_velocity(self, w, c1, c2, best_position_global):\n",
    "        \"\"\"\n",
    "        w, c1, c2: constants\n",
    "        best_position_global: the best position found in the whole population so far \n",
    "        This function updates the Particle's velocity\n",
    "        \"\"\"\n",
    "        #YOUR CODE HERE\n",
    "        for i in range(0, 2):\n",
    "            inertia = self.velocity[i] * w\n",
    "            cog = c1 * np.random.uniform(0,1) * (self.best_position[i] - self.position[i])\n",
    "            soc = c2 * np.random.uniform(0,1) * (best_position_global[i] - self.position[i])\n",
    "            self.velocity[i] = inertia + cog + soc\n",
    "        return self.velocity\n",
    "\n",
    "    def update_position(self):\n",
    "        \"\"\"\n",
    "        Updates the Particle's position\n",
    "        \"\"\"\n",
    "        #YOUR CODE HERE\n",
    "        for i in range(0, 2):\n",
    "            self.position[i] = self.position[i] + self.velocity[i]\n",
    "            \n",
    "            if self.position[i] > 100:\n",
    "                self.position[i] = 100\n",
    "            elif self.position[i] < -100:\n",
    "                self.position[i] = -100\n",
    "                \n",
    "        return self.position"
   ]
  },
  {
   "cell_type": "markdown",
   "metadata": {
    "id": "PdpADdfjQ8qW"
   },
   "source": [
    "Next, we create the PSO_Simulation class. This will start and run the swarm for the algorithm. We create a PSO_Simulation object with initial population, which is the list of Particles that will be used, and the constants. \n",
    "\n",
    "There is a function used to update the best values of a Particle, and update the global best if necessary. \n",
    "\n",
    "The main driver of the program is PSO_Simulation.run(), which first updates the best values for each Particle. Then, we begin the iterations. In each iteration, we go through every Particle, update its velocity, update its position, and update its best value if necessary. At the end of each iteration, we update $w$  (set $w = 0.98 * w$), and record the current global best value (lowest value). This function then returns a list of the global bests after each iteration. \n",
    "\n",
    "## 1.2 (5 points)\n",
    "**TO-DO**\n",
    "\n",
    "1. `update_best`\n",
    "2. Complete `run`."
   ]
  },
  {
   "cell_type": "code",
   "execution_count": 4,
   "metadata": {
    "id": "4QA0JRqzQ7oQ"
   },
   "outputs": [],
   "source": [
    "class PSO_Simulation:\n",
    "    def __init__(self, initialPop, w, c1, c2):\n",
    "        \"\"\"\n",
    "        initialPop: list of pop_size Particles\n",
    "        w, c1, c2: constants\n",
    "        best_position_global: the best position found by any Particle so far\n",
    "        best_value_global: the best value found by any Particle so far \n",
    "        \"\"\"\n",
    "        self.particles = initialPop\n",
    "        self.pop_size = len(initialPop)\n",
    "        self.w = w  \n",
    "        self.c1 = c1\n",
    "        self.c2 = c2\n",
    "        self.best_position_global = np.copy(initialPop[1].position)\n",
    "        self.best_fitness_global = -np.inf\n",
    "\n",
    "    def update_best(self, particle):\n",
    "        \"\"\"\n",
    "        Updates the global/personal best position and value if the current Particle's position is better.\n",
    "        \"\"\"\n",
    "        # YOUR CODE HERE\n",
    "        # first update the particle's best position and fitness if needed\n",
    "        if particle.fitness() > particle.best_fitness:\n",
    "            particle.best_fitness = particle.fitness()\n",
    "            particle.best_position = np.copy(particle.position)\n",
    "        # then update the best position and  fitness if needed\n",
    "        if particle.fitness() > self.best_fitness_global:\n",
    "            self.best_fitness_global = particle.fitness()\n",
    "            self.best_position_global = np.copy(particle.position)\n",
    "            \n",
    "    def run(self, iterations):\n",
    "        best_global_values = [] # Stores the best/smallest values of the function to minimize in each iteration\n",
    "        particles_position = [] # Stores the particles' positions in each iteration\n",
    "        particles_velocity = [] # Stores the particles' velocities in every iteration \n",
    "        weights = []            # Stores the weights in each iteration\n",
    "        \n",
    "        \n",
    "        for _ in range(iterations):\n",
    "            # YOUR CODE HERE\n",
    "            # update each particle's best fitness and position\n",
    "            # update the global best fitness and position\n",
    "            # BEGIN YOUR CODE\n",
    "            for particle in self.particles:\n",
    "                self.update_best(particle)\n",
    "            # END YOUR CODE\n",
    "\n",
    "            # Update each particle's position and velocity\n",
    "            # BEGIN YOUR CODE\n",
    "            for particle in self.particles:\n",
    "                particle.update_velocity(self.w, self.c1, self.c2, self.best_position_global)\n",
    "                particle.update_position()\n",
    "            # END YOUR CODE\n",
    "\n",
    "            # Again update each particle's best fitness and position\n",
    "            # Again update the global best fitness and position\n",
    "            # BEGIN YOUR CODE\n",
    "            for particle in self.particles:\n",
    "                self.update_best(particle)\n",
    "            # END YOUR CODE\n",
    "            \n",
    "            positions = []\n",
    "            velocities = []\n",
    "            \n",
    "            for particle in self.particles:\n",
    "                positions.append(particle.position)\n",
    "                velocities.append(particle.velocity)\n",
    "                \n",
    "            particles_position.append(positions)\n",
    "            particles_velocity.append(velocities)\n",
    "            weights.append(self.w)\n",
    "            \n",
    "            self.w = self.w*0.98    #Weight update\n",
    "            \n",
    "            best_global_values.append(func(self.best_position_global))\n",
    "            \n",
    "        particles_record = [particles_position, particles_velocity]\n",
    "        return weights, best_global_values, particles_record"
   ]
  },
  {
   "cell_type": "markdown",
   "metadata": {
    "id": "vYcAWOLXMyo0"
   },
   "source": [
    "## Create our initial population\n",
    "Particle generator. \n",
    "We now can make our initial population. To do so, we need a function that produces random Particles. To create an individual, we randomly generate a position vector, setting each element equal to a random number between $-30$ and $30$. Even though we are starting out with a completely random initial population, there is still a chance for convergence. \n",
    "\n",
    "The first function here produces one random Particle, and in the next function, we create the whole initial population by repeatedly calling randomParticle(). Note: we only have to use these functions to create the initial population.\n",
    "\n",
    "## 1.3 (2 points)\n",
    "\n",
    "**TO-DO**:\n",
    "\n",
    "1. `randomParticles`"
   ]
  },
  {
   "cell_type": "code",
   "execution_count": 5,
   "metadata": {
    "id": "aO22qOFD_LIU"
   },
   "outputs": [],
   "source": [
    "def randomParticle():\n",
    "    #YOUR CODE HERE\n",
    "    position = [random.uniform(-30, 30), random.uniform(-30, 30)]\n",
    "    return Particle(position)\n",
    "\n",
    "\n",
    "def initialPopulation(pop_size):\n",
    "    \"\"\"\n",
    "    Create inital population of a given size.\n",
    "    Returns a list of random Particles\n",
    "    \"\"\"\n",
    "    pop = []\n",
    "    for i in range(pop_size):\n",
    "        temp = randomParticle()\n",
    "        pop.append(temp)\n",
    "    \n",
    "    return pop"
   ]
  },
  {
   "cell_type": "markdown",
   "metadata": {
    "id": "U-W72JviN6kw"
   },
   "source": [
    "## Final Step\n",
    "The particleSwarm function puts everything together. We start off by creating the initial population, then create a PSO_Simulation object, which we use to run the program. You should capture the initial best value, final best value, and also the best values over time. We then plot the best value found at every iteration, using the list returned by PSO_Simulation.run(). For particle visualization, you will also need to return an array of particle positions and velocities in each iteration. (An example of the structure of the particle positions : positions.shape = (num. of iterations, pop_size, dim) )\n"
   ]
  },
  {
   "cell_type": "code",
   "execution_count": 6,
   "metadata": {
    "id": "EDdtuVjB9mx0"
   },
   "outputs": [],
   "source": [
    "def particleSwarm(iterations, pop_size, w, c1, c2):\n",
    "    start = datetime.now()\n",
    "\n",
    "    pop=initialPopulation(pop_size)\n",
    "    weights, best_global_values, particles_record = PSO_Simulation(pop,w,c1,c2).run(iterations)\n",
    "    \n",
    "    print(f'initial best value:{best_global_values[0]}')\n",
    "    print(f'final best value:{best_global_values[-1]}')\n",
    "  \n",
    "    plt.plot(best_global_values)\n",
    "    plt.xlabel('iteration')\n",
    "    plt.ylabel('best value')\n",
    "\n",
    "    end = datetime.now()\n",
    "    print(\"Time Elapsed for Particle Swarm: \" + str(end - start))\n",
    "    return weights, particles_record , best_global_values"
   ]
  },
  {
   "cell_type": "markdown",
   "metadata": {
    "id": "90R4oUcrUs9Z"
   },
   "source": [
    "Finally, call the function with your desired parameters. Please choose what parameters to use which give you good results. \n",
    "\n",
    "We recommend keeping iterations less than 100, pop_size less than 200,  $w$ under 1, and choosing small values  (less than 1) for $c_1$ and $c_2$. \n",
    "\n",
    "## 1.4 (4 points)\n",
    "\n",
    "**To-do**\n",
    "\n",
    "1. Run `particleSwarm`. (1 point)\n",
    "2. `plot_particles` will generate two .gif visualizations and they will be saved in the folder where this notebook is located. Experiment with different combinations of parameters to see how the visulizations change. \n",
    "3. How do $c_1$ and $c_2$ affect the particles convergence. (3 points)"
   ]
  },
  {
   "cell_type": "code",
   "execution_count": 7,
   "metadata": {
    "id": "jvX82mow21Eo",
    "scrolled": false
   },
   "outputs": [
    {
     "name": "stdout",
     "output_type": "stream",
     "text": [
      "initial best value:-4.978659286143136\n",
      "final best value:-7.391885046120774\n",
      "Time Elapsed for Particle Swarm: 0:00:00.389939\n"
     ]
    },
    {
     "data": {
      "image/png": "[encoded data removed]",
      "text/plain": [
       "<Figure size 432x288 with 1 Axes>"
      ]
     },
     "metadata": {
      "needs_background": "light"
     },
     "output_type": "display_data"
    }
   ],
   "source": [
    "# Change the parameters\n",
    "w = 0.8\n",
    "c1 = 0.25\n",
    "c2 = 0.25\n",
    "iterations = 70\n",
    "pop_size =100\n",
    "\n",
    "\n",
    "weights, particles_record, best_global_values = particleSwarm(\n",
    "    iterations=iterations, pop_size=pop_size, w=w, c1=c1, c2=c2)\n",
    "positions, velocities = record_to_pv(particles_record)\n",
    "plot_particles(positions=positions, velocities=velocities, normalize_velocity=True, alphas=weights,\n",
    "               progresses=best_global_values, name='PSO visualization', additonal_info=f\"c1={c1}, c2={c2}\")"
   ]
  },
  {
   "cell_type": "markdown",
   "metadata": {},
   "source": [
    "The c1 and c2 parameters essentially bias/shift the particles to favor different spaces/positionings. By increasing both of these values, there is likely to be an earlier convergence whereas decreasing these values can lead to a slower convergence and risk achieving only the local maxima. Thus, these values are critical in allowing for proper particle space exploration to find the true best position/value by optimizing convergence to properly assess particle AND global best position without local maxima or limited values due to improper balance and convergence."
   ]
  },
  {
   "cell_type": "markdown",
   "metadata": {
    "id": "dCzy1FA7WNeM"
   },
   "source": [
    "# Firefly Algorithm \n",
    "\n",
    "The firefly algorithm (FA) was first developed in late 2007. FA was based on the flashing patterns and behavior of fireflies. The flashing light is to attract mating partners and to attract potential prey, and possibly other functions scientists are still debating. \n",
    "\n",
    "Now we can idealize some of the flashing characteristics of fireflies so as to develop firefly-inspired algorithms. For simplicity in describing the standard FA, we now use the following three idealized rules:\n",
    "\n",
    "1. All fireflies are unisex, so one firefly will be attracted to other fireflies regardless of their sex. \n",
    "2. Attractiveness is proportional to a firefly's brightness. Thus for any two flashing fireflies, the less bright one will move towards the brighter one. The attractiveness is proportional to the brightness, both of which decrease as their distance increases. If there is no brighter one than a particular firefly, it will move randomly. \n",
    "3. The brightness of a firefly is affected or determined by the distance between the itself and the other firefly. \n",
    "\n",
    "The pseudocode of FA is below: (In our case, since we are minimizing the function, the lower the fitness the better.)\n",
    "\n",
    "```\n",
    "Data: Objective function f(x)\n",
    "\n",
    "Result: Best or optimal solution\n",
    "\n",
    "Intialization of parameters (pop_size,alpha,beta,gamma)\n",
    "Generate an initial population of n fireflies x_i (i =1,2,.. pop_size)\n",
    "\n",
    "while t < iterations do:\n",
    "    for i = 1: pop_size (all fireflies) do\n",
    "        for j = 1 :pop_Size (all fireflies) do\n",
    "            if (firefly i fitness > firefly j fitness) then \n",
    "                Move firefly i towards j  using the position update equation\n",
    "        end\n",
    "    end\n",
    "    \n",
    "    rank the fireflies and find the current global best\n",
    "    move the firefly with the lowest fitness randomly\n",
    "    update alpha ( alpha = 0.98 * alpha)\n",
    "```\n",
    "The position update equation for the fireflies:\n",
    "\n",
    "$$ x_{i}^{t+1} = x_{i}^{t} + \\beta_{0}e^{-\\gamma r_{ij}^{2}}(x_{j}^{t}-x_{i}^{t})+ \\alpha \\epsilon_{i}^{t}$$\n",
    ", where $\\epsilon$ is a vector of random numbers drawn from a Gaussian distribution centered around 0 with a standard deviation of 1.\n",
    "\n",
    "$r_{ij}$ is the distance between fly i and fly j. We can use any distance function for distance r. In this assignment, we will be using the Euclidean distance.\n",
    "\n",
    "$$ r_{ij} = \\sqrt{\\sum_{k=1}^{d} (x_{i,k}-x_{j,k})^{2}} $$\n",
    "\n",
    "$\\beta_{0} $ is the brightness at distance = 0. It is common to set it equal to 1. \n",
    "\n",
    "\n",
    "Now, let's setup the FA. It is similar to the setup of the PSO. \n",
    "\n",
    "## 2.1 (5 points)\n",
    "\n",
    "**To-do**\n",
    "\n",
    "1. Implement the `update_position` method. \n"
   ]
  },
  {
   "cell_type": "code",
   "execution_count": 8,
   "metadata": {},
   "outputs": [],
   "source": [
    "class Firefly:\n",
    "    def __init__(self, position):\n",
    "        \"\"\"\n",
    "        position: the position of this firefly. \n",
    "\n",
    "        \"\"\"\n",
    "        self.position = position\n",
    "    \n",
    "    def fitness(self):\n",
    "        \"\"\"\n",
    "        This fitness function is defined as the value of this Particle\n",
    "        when plugged into the function polynomial.\n",
    "        \"\"\"\n",
    "        return -func(self.position)\n",
    "\n",
    "    def update_position(self, firefly, alpha,  beta, gamma):\n",
    "        \"\"\"\n",
    "        Updates the fly's position\n",
    "        \"\"\"        \n",
    "        #YOUR CODE HERE\n",
    "        distance = np.linalg.norm(self.position - firefly.position)\n",
    "\n",
    "        # Generate random numbers from a Gaussian distribution\n",
    "        epsilon = np.random.normal(loc=0, scale=1, size=len(self.position))\n",
    "\n",
    "        # Update the position of this firefly\n",
    "        self.position = self.position + (beta * np.exp(-gamma * distance**2)) * (firefly.position - self.position) + alpha * epsilon\n",
    " "
   ]
  },
  {
   "cell_type": "markdown",
   "metadata": {},
   "source": [
    "## 2.2 (5 points)\n",
    "**To-do**:\n",
    "\n",
    "Follow the pseudocode and complete the `run` method."
   ]
  },
  {
   "cell_type": "code",
   "execution_count": 9,
   "metadata": {},
   "outputs": [],
   "source": [
    "class FF_Simulation:\n",
    "    def __init__(self, initialFlies, alpha, beta, gamma):\n",
    "        \"\"\"\n",
    "        initialPop: list of pop_size Particles\n",
    "        w, c1, c2: constants\n",
    "        best_position_global: the best position found by any Particle so far\n",
    "        best_value_global: the best value found by any Particle so far \n",
    "        \"\"\"\n",
    "        self.flies = initialFlies\n",
    "        self.pop_size = len(initialFlies)\n",
    "        self.alpha = alpha\n",
    "        self.beta = beta\n",
    "        self.gamma = gamma\n",
    "\n",
    "            \n",
    "    def run(self, iterations):\n",
    "        best_global_values = [] # Store the global best(smallest) value of the function to minimize in every iteration\n",
    "        flies_position = []     # Stores the position of each firefly in each iteration \n",
    "        alphas = []             # Stores the alpha values of every iteration \n",
    "        for _ in range(iterations):\n",
    "            # Rank the flies by fitness. \n",
    "            # BEGIN YOUR CODE\n",
    "            self.flies = sorted(self.flies, key=lambda fly: fly.fitness())\n",
    "            # END YOUR CODE\n",
    "\n",
    "            # Update flies position\n",
    "            # If the fly is not currently the best, update its position according to the formula\n",
    "            # Otherwise random movement if the fly is currently the best. \n",
    "            # BEGIN YOUR CODE\n",
    "            for i in range(self.pop_size):\n",
    "                fly = self.flies[i]\n",
    "                if i != self.pop_size - 1:\n",
    "                    best_fly = self.flies[-1]\n",
    "                    fly.update_position(best_fly, self.alpha, self.beta, self.gamma)\n",
    "                else:\n",
    "                    random_movement = np.random.normal(loc=0, scale=1, size=len(fly.position))\n",
    "                    fly.position = fly.position + random_movement\n",
    "            # END YOUR CODE\n",
    "            \n",
    "            # Resort the flies by fitness after update\n",
    "            # BEGIN YOUR CODE\n",
    "            self.flies = sorted(self.flies, key=lambda fly: fly.fitness())\n",
    "            # END YOUR CODE\n",
    "            \n",
    "            # Update the positions for plotting.\n",
    "            positions = []\n",
    "            for fly in self.flies:\n",
    "                positions.append(fly.position)\n",
    "            flies_position.append(np.array(positions))\n",
    "\n",
    "            # Update alpha\n",
    "            alphas.append(self.alpha)\n",
    "            self.alpha = 0.98*self.alpha\n",
    "            \n",
    "            # Update the best value\n",
    "            best_global_values.append(func(self.flies[-1].position))\n",
    "  \n",
    "        return best_global_values, flies_position,alphas"
   ]
  },
  {
   "cell_type": "markdown",
   "metadata": {},
   "source": [
    "## Create our initial population\n",
    "Firefly generator. \n",
    "We now can make our initial population. You can reuse the code you wrote for the PSO functions. \n",
    "\n",
    "## 2.3 (2 points)\n",
    "\n",
    "**To-do**\n",
    "\n",
    "1. Complete `randomFlies`."
   ]
  },
  {
   "cell_type": "code",
   "execution_count": 10,
   "metadata": {},
   "outputs": [],
   "source": [
    "def randomFlies():\n",
    "    # range of position: [-10, 10]\n",
    "    # YOUR CODE HERE\n",
    "    position = np.random.uniform(low=-10, high=10, size=2)\n",
    "    return Firefly(position)\n",
    "\n",
    "def initialSwarm(pop_size):\n",
    "    \"\"\"\n",
    "    Create inital population of a given size.\n",
    "    Returns a list of random flies.\n",
    "    \"\"\"\n",
    "    pop = []\n",
    "    for i in range(pop_size):\n",
    "        temp = randomFlies()\n",
    "        pop.append(temp)\n",
    "    \n",
    "    return pop"
   ]
  },
  {
   "cell_type": "code",
   "execution_count": 11,
   "metadata": {},
   "outputs": [],
   "source": [
    "def fireFly(iterations, pop_size, alpha, beta, gamma):\n",
    "\n",
    "    start = datetime.now()\n",
    "\n",
    "    pop=initialSwarm(pop_size)\n",
    "    best_global_values, positions, alphas =  FF_Simulation(pop,alpha,beta, gamma).run(iterations)\n",
    "    \n",
    "    print(f'initial best value:{best_global_values[0]}')\n",
    "    print(f'final best value:{best_global_values[-1]}')\n",
    "  \n",
    "    plt.plot(best_global_values)\n",
    "    plt.xlabel('iteration')\n",
    "    plt.ylabel('best value')\n",
    "\n",
    "    end = datetime.now()\n",
    "    print(\"Time Elapsed for Particle Swarm: \" + str(end - start))\n",
    "    return best_global_values, positions, alphas"
   ]
  },
  {
   "cell_type": "markdown",
   "metadata": {},
   "source": [
    "## 2.4 (7 points)\n",
    "\n",
    "**To-do**\n",
    "\n",
    "1. Run `fireFly`. ( 1 point)\n",
    "We recommand the following setting: \n",
    "\n",
    "`iterations` = 100\n",
    "\n",
    "`pop_size` = 200\n",
    "\n",
    "`alpha` > 0.4\n",
    "\n",
    "`beta` = 1\n",
    "\n",
    "`gamma` > 2\n",
    "\n",
    "\n",
    "2. `plot_particles` will generate two .gif visualizations and they will be saved in the folder where this notebook is located. Experiment with different combinations of parameters to see how the visulizations change. \n",
    "3. How do the parameters affect the particles convergence?( 3 points)\n",
    "4. Discuss the similarities and differences between PSO and Firefly algorithm. How is PSO better than the Firefly, or vice versa. (3 points) "
   ]
  },
  {
   "cell_type": "code",
   "execution_count": 12,
   "metadata": {},
   "outputs": [
    {
     "name": "stdout",
     "output_type": "stream",
     "text": [
      "initial best value:-5.61257007592568\n",
      "final best value:9.278726944807516\n",
      "Time Elapsed for Particle Swarm: 0:00:00.641822\n"
     ]
    },
    {
     "data": {
      "image/png": "[encoded data removed]",
      "text/plain": [
       "<Figure size 432x288 with 1 Axes>"
      ]
     },
     "metadata": {
      "needs_background": "light"
     },
     "output_type": "display_data"
    }
   ],
   "source": [
    "# Change the parameters.\n",
    "iterations = 100\n",
    "pop_size = 200\n",
    "alpha = 0.5\n",
    "beta = 1\n",
    "gamma = 3\n",
    "best_global_values, positions, alphas = fireFly(iterations=iterations, pop_size=pop_size, alpha = alpha, beta = beta, gamma =gamma)\n",
    "plot_particles(positions=positions, velocities=None, normalize_velocity=True, progresses=best_global_values,\n",
    "               name='firefly', alphas=alphas, additonal_info=f\"beta: {beta}, gamma: {gamma}\")\n"
   ]
  },
  {
   "cell_type": "markdown",
   "metadata": {},
   "source": [
    "Out of the parameters: alpha, beta, and gamma, similarly to PSO, if any of these values are too high or low, especially in correspondence to each other, there can be issues of premature convergence or poor levels of convergence. Alpha provides random movement which can assist in a better convergence globally rather than local maxima, beta affects attraction between the fireflies which can promote convergence, and gamma scales this attractiveness or convergence with distance."
   ]
  },
  {
   "cell_type": "markdown",
   "metadata": {},
   "source": [
    "Both algorithms are inspired by biological patterns of movement that utilize populations of points (particles/fireflies) to try and find the global optimum through space-search movement and influences (and subsequently both utilize vector movement). However, they differ in that PSO search is affected by the particle's best positioning in relation to one another as a whole whereas FF is based on the \"brightness\" or greater ideal of certain fireflies present. They also utilize different parameters with PSO having fewer present.\n",
    "\n",
    "Based on the general aspects of both algorithms and this assignment, PSO appeared to be much faster at converging and finding results than FF and was simpler to adjust its parameters to find and alter the outcome. However based on the output plots, FF was able to find more maxima and minima in terms of best value across iterations that could be more useful at assessing proper convergence and the true global best value."
   ]
  }
 ],
 "metadata": {
  "colab": {
   "name": "COGS 160 Assignment 3 Final.ipynb",
   "provenance": []
  },
  "kernelspec": {
   "display_name": "Python 3 (ipykernel)",
   "language": "python",
   "name": "python3"
  },
  "language_info": {
   "codemirror_mode": {
    "name": "ipython",
    "version": 3
   },
   "file_extension": ".py",
   "mimetype": "text/x-python",
   "name": "python",
   "nbconvert_exporter": "python",
   "pygments_lexer": "ipython3",
   "version": "3.9.7"
  },
  "vscode": {
   "interpreter": {
    "hash": "77eee26a74623a023872d1bc89eff3417ddfa96c1608d48d76f7b381bf2c2567"
   }
  }
 },
 "nbformat": 4,
 "nbformat_minor": 1
}
